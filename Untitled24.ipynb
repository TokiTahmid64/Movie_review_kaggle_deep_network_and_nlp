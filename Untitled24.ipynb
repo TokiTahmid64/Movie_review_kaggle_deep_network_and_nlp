{
 "cells": [
  {
   "cell_type": "code",
   "execution_count": 2,
   "metadata": {},
   "outputs": [],
   "source": [
    "import tensorflow as tf\n",
    "import numpy as np\n",
    "import pandas as pd\n",
    "from tensorflow import keras"
   ]
  },
  {
   "cell_type": "code",
   "execution_count": 179,
   "metadata": {},
   "outputs": [],
   "source": [
    "from keras.models import Sequential\n",
    "from keras.layers import Dense,Activation,GlobalAveragePooling1D,Flatten,Embedding,Conv1D,MaxPooling1D\n",
    "from keras.preprocessing.text import Tokenizer\n",
    "from keras.preprocessing.sequence import pad_sequences\n",
    "from sklearn.utils import shuffle\n"
   ]
  },
  {
   "cell_type": "code",
   "execution_count": 187,
   "metadata": {},
   "outputs": [],
   "source": [
    "df=pd.read_csv(\"C:/Users/User/Downloads/2052_131084_bundle_archive/movie_review.csv\")"
   ]
  },
  {
   "cell_type": "code",
   "execution_count": 188,
   "metadata": {},
   "outputs": [
    {
     "data": {
      "text/html": [
       "<div>\n",
       "<style scoped>\n",
       "    .dataframe tbody tr th:only-of-type {\n",
       "        vertical-align: middle;\n",
       "    }\n",
       "\n",
       "    .dataframe tbody tr th {\n",
       "        vertical-align: top;\n",
       "    }\n",
       "\n",
       "    .dataframe thead th {\n",
       "        text-align: right;\n",
       "    }\n",
       "</style>\n",
       "<table border=\"1\" class=\"dataframe\">\n",
       "  <thead>\n",
       "    <tr style=\"text-align: right;\">\n",
       "      <th></th>\n",
       "      <th>fold_id</th>\n",
       "      <th>cv_tag</th>\n",
       "      <th>html_id</th>\n",
       "      <th>sent_id</th>\n",
       "      <th>text</th>\n",
       "      <th>tag</th>\n",
       "    </tr>\n",
       "  </thead>\n",
       "  <tbody>\n",
       "    <tr>\n",
       "      <th>0</th>\n",
       "      <td>0</td>\n",
       "      <td>cv000</td>\n",
       "      <td>29590</td>\n",
       "      <td>0</td>\n",
       "      <td>films adapted from comic books have had plenty...</td>\n",
       "      <td>pos</td>\n",
       "    </tr>\n",
       "    <tr>\n",
       "      <th>1</th>\n",
       "      <td>0</td>\n",
       "      <td>cv000</td>\n",
       "      <td>29590</td>\n",
       "      <td>1</td>\n",
       "      <td>for starters , it was created by alan moore ( ...</td>\n",
       "      <td>pos</td>\n",
       "    </tr>\n",
       "    <tr>\n",
       "      <th>2</th>\n",
       "      <td>0</td>\n",
       "      <td>cv000</td>\n",
       "      <td>29590</td>\n",
       "      <td>2</td>\n",
       "      <td>to say moore and campbell thoroughly researche...</td>\n",
       "      <td>pos</td>\n",
       "    </tr>\n",
       "    <tr>\n",
       "      <th>3</th>\n",
       "      <td>0</td>\n",
       "      <td>cv000</td>\n",
       "      <td>29590</td>\n",
       "      <td>3</td>\n",
       "      <td>the book ( or \" graphic novel , \" if you will ...</td>\n",
       "      <td>pos</td>\n",
       "    </tr>\n",
       "    <tr>\n",
       "      <th>4</th>\n",
       "      <td>0</td>\n",
       "      <td>cv000</td>\n",
       "      <td>29590</td>\n",
       "      <td>4</td>\n",
       "      <td>in other words , don't dismiss this film becau...</td>\n",
       "      <td>pos</td>\n",
       "    </tr>\n",
       "  </tbody>\n",
       "</table>\n",
       "</div>"
      ],
      "text/plain": [
       "   fold_id cv_tag  html_id  sent_id  \\\n",
       "0        0  cv000    29590        0   \n",
       "1        0  cv000    29590        1   \n",
       "2        0  cv000    29590        2   \n",
       "3        0  cv000    29590        3   \n",
       "4        0  cv000    29590        4   \n",
       "\n",
       "                                                text  tag  \n",
       "0  films adapted from comic books have had plenty...  pos  \n",
       "1  for starters , it was created by alan moore ( ...  pos  \n",
       "2  to say moore and campbell thoroughly researche...  pos  \n",
       "3  the book ( or \" graphic novel , \" if you will ...  pos  \n",
       "4  in other words , don't dismiss this film becau...  pos  "
      ]
     },
     "execution_count": 188,
     "metadata": {},
     "output_type": "execute_result"
    }
   ],
   "source": [
    "df.head()"
   ]
  },
  {
   "cell_type": "code",
   "execution_count": 189,
   "metadata": {},
   "outputs": [],
   "source": [
    "df=df[['cv_tag','text','tag']]"
   ]
  },
  {
   "cell_type": "code",
   "execution_count": 190,
   "metadata": {},
   "outputs": [
    {
     "data": {
      "text/plain": [
       "\"getting the hughes brothers to direct this seems almost as ludicrous as casting carrot top in , well , anything , but riddle me this : who better to direct a film that's set in the ghetto and features really violent street crime than the mad geniuses behind menace ii society ?\""
      ]
     },
     "execution_count": 190,
     "metadata": {},
     "output_type": "execute_result"
    }
   ],
   "source": [
    "df['text'][6]"
   ]
  },
  {
   "cell_type": "code",
   "execution_count": 191,
   "metadata": {},
   "outputs": [],
   "source": [
    "df=df.groupby(['cv_tag', 'tag'], as_index = False).agg({'text': ' '.join})"
   ]
  },
  {
   "cell_type": "code",
   "execution_count": 192,
   "metadata": {},
   "outputs": [],
   "source": [
    "df=df[['text','tag']]"
   ]
  },
  {
   "cell_type": "code",
   "execution_count": 193,
   "metadata": {},
   "outputs": [
    {
     "data": {
      "text/html": [
       "<div>\n",
       "<style scoped>\n",
       "    .dataframe tbody tr th:only-of-type {\n",
       "        vertical-align: middle;\n",
       "    }\n",
       "\n",
       "    .dataframe tbody tr th {\n",
       "        vertical-align: top;\n",
       "    }\n",
       "\n",
       "    .dataframe thead th {\n",
       "        text-align: right;\n",
       "    }\n",
       "</style>\n",
       "<table border=\"1\" class=\"dataframe\">\n",
       "  <thead>\n",
       "    <tr style=\"text-align: right;\">\n",
       "      <th></th>\n",
       "      <th>text</th>\n",
       "      <th>tag</th>\n",
       "    </tr>\n",
       "  </thead>\n",
       "  <tbody>\n",
       "    <tr>\n",
       "      <th>0</th>\n",
       "      <td>plot : two teen couples go to a church party ,...</td>\n",
       "      <td>neg</td>\n",
       "    </tr>\n",
       "    <tr>\n",
       "      <th>1</th>\n",
       "      <td>films adapted from comic books have had plenty...</td>\n",
       "      <td>pos</td>\n",
       "    </tr>\n",
       "    <tr>\n",
       "      <th>2</th>\n",
       "      <td>the happy bastard's quick movie review damn th...</td>\n",
       "      <td>neg</td>\n",
       "    </tr>\n",
       "    <tr>\n",
       "      <th>3</th>\n",
       "      <td>every now and then a movie comes along from a ...</td>\n",
       "      <td>pos</td>\n",
       "    </tr>\n",
       "    <tr>\n",
       "      <th>4</th>\n",
       "      <td>it is movies like these that make a jaded movi...</td>\n",
       "      <td>neg</td>\n",
       "    </tr>\n",
       "  </tbody>\n",
       "</table>\n",
       "</div>"
      ],
      "text/plain": [
       "                                                text  tag\n",
       "0  plot : two teen couples go to a church party ,...  neg\n",
       "1  films adapted from comic books have had plenty...  pos\n",
       "2  the happy bastard's quick movie review damn th...  neg\n",
       "3  every now and then a movie comes along from a ...  pos\n",
       "4  it is movies like these that make a jaded movi...  neg"
      ]
     },
     "execution_count": 193,
     "metadata": {},
     "output_type": "execute_result"
    }
   ],
   "source": [
    "df.head()"
   ]
  },
  {
   "cell_type": "code",
   "execution_count": null,
   "metadata": {},
   "outputs": [],
   "source": []
  },
  {
   "cell_type": "code",
   "execution_count": null,
   "metadata": {},
   "outputs": [],
   "source": []
  },
  {
   "cell_type": "code",
   "execution_count": null,
   "metadata": {},
   "outputs": [],
   "source": []
  },
  {
   "cell_type": "code",
   "execution_count": null,
   "metadata": {},
   "outputs": [],
   "source": []
  },
  {
   "cell_type": "code",
   "execution_count": 194,
   "metadata": {},
   "outputs": [
    {
     "data": {
      "text/plain": [
       "(2000, 2)"
      ]
     },
     "execution_count": 194,
     "metadata": {},
     "output_type": "execute_result"
    }
   ],
   "source": [
    "df.shape"
   ]
  },
  {
   "cell_type": "code",
   "execution_count": 156,
   "metadata": {},
   "outputs": [],
   "source": [
    "df=shuffle(df)"
   ]
  },
  {
   "cell_type": "code",
   "execution_count": 195,
   "metadata": {},
   "outputs": [
    {
     "data": {
      "text/plain": [
       "(2000, 2)"
      ]
     },
     "execution_count": 195,
     "metadata": {},
     "output_type": "execute_result"
    }
   ],
   "source": [
    "df.shape"
   ]
  },
  {
   "cell_type": "code",
   "execution_count": 196,
   "metadata": {},
   "outputs": [],
   "source": [
    "x,y=df['text'],df['tag']"
   ]
  },
  {
   "cell_type": "code",
   "execution_count": 197,
   "metadata": {},
   "outputs": [
    {
     "data": {
      "text/plain": [
       "(2000,)"
      ]
     },
     "execution_count": 197,
     "metadata": {},
     "output_type": "execute_result"
    }
   ],
   "source": [
    "x.shape"
   ]
  },
  {
   "cell_type": "code",
   "execution_count": 198,
   "metadata": {},
   "outputs": [],
   "source": [
    "train_x,test_x=x[:1600],x[1600:]"
   ]
  },
  {
   "cell_type": "code",
   "execution_count": null,
   "metadata": {},
   "outputs": [],
   "source": []
  },
  {
   "cell_type": "code",
   "execution_count": 199,
   "metadata": {},
   "outputs": [],
   "source": [
    "train_y,test_y=y[:1600],y[1600:]"
   ]
  },
  {
   "cell_type": "code",
   "execution_count": 200,
   "metadata": {},
   "outputs": [],
   "source": [
    "train_labels={'pos':1,'neg':0}\n",
    "train_y=train_y.map(train_labels)\n",
    "test_y=test_y.map(train_labels)"
   ]
  },
  {
   "cell_type": "code",
   "execution_count": 201,
   "metadata": {},
   "outputs": [
    {
     "data": {
      "text/plain": [
       "(1600,)"
      ]
     },
     "execution_count": 201,
     "metadata": {},
     "output_type": "execute_result"
    }
   ],
   "source": [
    "train_x.shape"
   ]
  },
  {
   "cell_type": "code",
   "execution_count": 88,
   "metadata": {},
   "outputs": [
    {
     "data": {
      "text/plain": [
       "['aabb', 'vnc', 'dds']"
      ]
     },
     "execution_count": 88,
     "metadata": {},
     "output_type": "execute_result"
    }
   ],
   "source": [
    "a=['aabb','vnc','dds']\n",
    "a.join"
   ]
  },
  {
   "cell_type": "code",
   "execution_count": 89,
   "metadata": {},
   "outputs": [],
   "source": [
    "a2=\" \".join(a)"
   ]
  },
  {
   "cell_type": "code",
   "execution_count": 90,
   "metadata": {},
   "outputs": [
    {
     "data": {
      "text/plain": [
       "'aabb vnc dds'"
      ]
     },
     "execution_count": 90,
     "metadata": {},
     "output_type": "execute_result"
    }
   ],
   "source": [
    "a2"
   ]
  },
  {
   "cell_type": "code",
   "execution_count": 136,
   "metadata": {},
   "outputs": [
    {
     "name": "stderr",
     "output_type": "stream",
     "text": [
      "[nltk_data] Downloading package wordnet to\n",
      "[nltk_data]     C:\\Users\\User\\AppData\\Roaming\\nltk_data...\n",
      "[nltk_data]   Unzipping corpora\\wordnet.zip.\n"
     ]
    },
    {
     "data": {
      "text/plain": [
       "True"
      ]
     },
     "execution_count": 136,
     "metadata": {},
     "output_type": "execute_result"
    }
   ],
   "source": [
    "import re\n",
    "import string\n",
    "import nltk\n",
    "from nltk.corpus import stopwords\n",
    "from nltk.stem import PorterStemmer\n",
    "from nltk.stem import WordNetLemmatizer\n",
    "nltk.download('wordnet')\n"
   ]
  },
  {
   "cell_type": "code",
   "execution_count": null,
   "metadata": {},
   "outputs": [],
   "source": [
    "nltk.download('stopwords')\n",
    "nltk.download('punkt')\n",
    "l=stopwords.words('english')"
   ]
  },
  {
   "cell_type": "code",
   "execution_count": 202,
   "metadata": {},
   "outputs": [],
   "source": [
    "lemmatizer = WordNetLemmatizer()"
   ]
  },
  {
   "cell_type": "code",
   "execution_count": 208,
   "metadata": {},
   "outputs": [],
   "source": [
    "\n",
    "\n",
    "def clean(text):\n",
    "    text = text.lower()\n",
    "    text = re.sub('\\[.*?\\,]', ' ', text)\n",
    "    text = re.sub('https?://\\S+|www\\.\\S+', ' ', text)\n",
    "    text = re.sub('<.*?>+', ' ', text)\n",
    "    text = re.sub('[%s]' % re.escape(string.punctuation), ' ', text)\n",
    "    text = re.sub('\\n', ' ', text)\n",
    "    text = re.sub('\\w*\\d\\w*', '', text)\n",
    "    \n",
    "    \n",
    "    return text"
   ]
  },
  {
   "cell_type": "code",
   "execution_count": 209,
   "metadata": {},
   "outputs": [
    {
     "ename": "IndentationError",
     "evalue": "unexpected indent (<ipython-input-209-d0fa45bf6966>, line 2)",
     "output_type": "error",
     "traceback": [
      "\u001b[1;36m  File \u001b[1;32m\"<ipython-input-209-d0fa45bf6966>\"\u001b[1;36m, line \u001b[1;32m2\u001b[0m\n\u001b[1;33m    new_words=[]\u001b[0m\n\u001b[1;37m    ^\u001b[0m\n\u001b[1;31mIndentationError\u001b[0m\u001b[1;31m:\u001b[0m unexpected indent\n"
     ]
    }
   ],
   "source": [
    "words = nltk.word_tokenize(text)\n",
    "    new_words=[]\n",
    "    for word in words:\n",
    "       if(word not in set(l)):\n",
    "        final_word=lemmatizer.lemmatize(word)\n",
    "        new_words.append(final_word)\n",
    "    \n",
    "    text=\" \".join(new_words)\n"
   ]
  },
  {
   "cell_type": "code",
   "execution_count": 210,
   "metadata": {},
   "outputs": [],
   "source": [
    "train_x=train_x.apply(lambda x:clean(x))"
   ]
  },
  {
   "cell_type": "code",
   "execution_count": 211,
   "metadata": {},
   "outputs": [
    {
     "data": {
      "text/plain": [
       "'plot   two teen couples go to a church party   drink and then drive   they get into an accident   one of the guys dies   but his girlfriend continues to see him in her life   and has nightmares   what s the deal   watch the movie and   sorta   find out       critique   a mind fuck movie for the teen generation that touches on a very cool idea   but presents it in a very bad package   which is what makes this review an even harder one to write   since i generally applaud films which attempt to break the mold   mess with your head and such   lost highway   memento     but there are good and bad ways of making all types of films   and these folks just didn t snag this one correctly   they seem to have taken this pretty neat concept   but executed it terribly   so what are the problems with the movie   well   its main problem is that it s simply too jumbled   it starts off   normal   but then downshifts into this   fantasy   world in which you   as an audience member   have no idea what s going on   there are dreams   there are characters coming back from the dead   there are others who look like the dead   there are strange apparitions   there are disappearances   there are a looooot of chase scenes   there are tons of weird things that happen   and most of it is simply not explained   now i personally don t mind trying to unravel a film every now and then   but when all it does is give me the same clue over and over again   i get kind of fed up after a while   which is this film s biggest problem   it s obviously got this big secret to hide   but it seems to want to hide it completely until its final five minutes   and do they make things entertaining   thrilling or even engaging   in the meantime   not really   the sad part is that the arrow and i both dig on flicks like this   so we actually figured most of it out by the half way point   so all of the strangeness after that did start to make a little bit of sense   but it still didn t the make the film all that more entertaining   i guess the bottom line with movies like this is that you should always make sure that the audience is   into it   even before they are given the secret password to enter your world of understanding   i mean   showing melissa sagemiller running away from visions for about   minutes throughout the movie is just plain lazy     okay   we get it       there are people chasing her and we don t know who they are   do we really need to see it over and over again   how about giving us different scenes offering further insight into all of the strangeness going down in the movie   apparently   the studio took this film away from its director and chopped it up themselves   and it shows   there might ve been a pretty decent teen mind fuck movie in here somewhere   but i guess   the suits   decided that turning it into a music video with little edge   would make more sense   the actors are pretty good for the most part   although wes bentley just seemed to be playing the exact same character that he did in american beauty   only in a new neighborhood   but my biggest kudos go out to sagemiller   who holds her own throughout the entire film   and actually has you feeling her character s unraveling   overall   the film doesn t stick because it doesn t entertain   it s confusing   it rarely excites and it feels pretty redundant for most of its runtime   despite a pretty cool ending and explanation to all of the craziness that came before it   oh   and by the way   this is not a horror or teen slasher flick       it s just packaged to look that way because someone is apparently assuming that the genre is still hot with the kids   it also wrapped production two years ago and has been sitting on the shelves ever since   whatever       skip it   where s joblo coming from   a nightmare of elm street             blair witch             the crow           the crow   salvation           lost highway           memento           the others           stir of echoes        '"
      ]
     },
     "execution_count": 211,
     "metadata": {},
     "output_type": "execute_result"
    }
   ],
   "source": [
    "train_x[0]\n"
   ]
  },
  {
   "cell_type": "raw",
   "metadata": {},
   "source": []
  },
  {
   "cell_type": "code",
   "execution_count": 212,
   "metadata": {},
   "outputs": [],
   "source": [
    "test_x=test_x.apply(lambda x:clean(x))"
   ]
  },
  {
   "cell_type": "code",
   "execution_count": 215,
   "metadata": {
    "scrolled": true
   },
   "outputs": [
    {
     "data": {
      "text/plain": [
       "'there were four movies that earned jamie lee curtis the title of   scream queen   in the early     two of them were halloween movies   but the other two    prom night and terror train    were the uninspired knockoffs that came directly after the success of halloween   the same   god   i m scared   there s some guy in a mask coming after me   routine she did in john carpenter s classic   jamie lee copies here   with none of the urgency or suspense   terror train takes place on   where else     a train   charted by some pre med students finishing their first four years of higher education   most of them won t make it to med school   though   and it s obvious from the foreshadowing done when the conductor complains     i wish to hell they d put a radio on that train     the conductor character probably has the most lines of anyone   even jamie lee   from the beginning   he s talking his head off   he tells one of his co workers   think on this    when s the last time someone built a shopping mall next to a train station     as if it makes any kind of sense   and it only gets better as he engages himself in an argument about the benefits of railroad over recreational vehicles   of course   the loudmouth conductor is the first person to find a bloody body   which is then gone when he brings a skeptical trainman back to view it   i forgot to mention the prologue   it s a party three years earlier   with the same group of students   two of them play a trick on a geeky frat pledge   promising him he s going to get laid   they send jamie lee up to stand behind the bed and talk to the geek as he comes in   noticing a form on the bed   she says     kiss me   kenny     and he kisses the body on the bed   which happens to be a cadaver       oh my god   they killed kenny   you bastards       it s a sick trick   and one jamie lee wasn t let in on   she still hasn t forgiven the guy as they board the terror train     you asshole   you can t have a good time without hurting somebody         the killing starts before the train even leaves the station   since it s new year s   everyone s wearing disguises   a convenient plot device we ve seen before     and someone stabs the guy in the groucho mask when no one s looking   at least one of the characters says it s a groucho mask   when the killer dons it and steps aboard   it looks like gene shalit who   by the way   would make a great killer in a slasher movie   speaking of weird looking dorks who still persist on the entertainment scene   one of terror train s most famous gimmicks is the appearance of david copperfield   as the magician     who regails those aboard with illusions set to disco music   then there s his greatest trick    getting laid with hair that looks like that   for all its attempts at visual style and substance   terror train is more lionel than amtrak   more prom night than halloween   and nothing really worth watching   only die hard fans of jamie lee curtis and david copperfield   if he truly has any fans   should even attempt to watch it   and it makes me wonder if a horror movie set in an rv could be much worse   i mean   when was the last time someone built a shopping mall next to a train station   anyway   terror train is definitely the cinematic equivalent of a sleeper car  '"
      ]
     },
     "execution_count": 215,
     "metadata": {},
     "output_type": "execute_result"
    }
   ],
   "source": [
    "test_x[1600]"
   ]
  },
  {
   "cell_type": "code",
   "execution_count": 216,
   "metadata": {},
   "outputs": [
    {
     "data": {
      "text/plain": [
       "(1600,)"
      ]
     },
     "execution_count": 216,
     "metadata": {},
     "output_type": "execute_result"
    }
   ],
   "source": [
    "train_x.shape"
   ]
  },
  {
   "cell_type": "code",
   "execution_count": null,
   "metadata": {},
   "outputs": [],
   "source": []
  },
  {
   "cell_type": "code",
   "execution_count": null,
   "metadata": {},
   "outputs": [],
   "source": []
  },
  {
   "cell_type": "code",
   "execution_count": null,
   "metadata": {},
   "outputs": [],
   "source": []
  },
  {
   "cell_type": "code",
   "execution_count": 217,
   "metadata": {},
   "outputs": [],
   "source": [
    "vocab_size=39000\n",
    "dimention=100\n",
    "oop_token=\"<oop>\"\n",
    "max_length=2500"
   ]
  },
  {
   "cell_type": "code",
   "execution_count": 218,
   "metadata": {},
   "outputs": [],
   "source": [
    "tokenizer=Tokenizer(num_words=vocab_size,oov_token=oop_token)\n",
    "tokenizer.fit_on_texts(train_x)\n",
    "sequences=tokenizer.texts_to_sequences(train_x)\n",
    "padded=pad_sequences(sequences,maxlen=max_length)"
   ]
  },
  {
   "cell_type": "code",
   "execution_count": 219,
   "metadata": {},
   "outputs": [
    {
     "data": {
      "text/plain": [
       "35671"
      ]
     },
     "execution_count": 219,
     "metadata": {},
     "output_type": "execute_result"
    }
   ],
   "source": [
    "word_index=tokenizer.word_index\n",
    "len(word_index)"
   ]
  },
  {
   "cell_type": "code",
   "execution_count": 220,
   "metadata": {},
   "outputs": [],
   "source": [
    "test_sequences=tokenizer.texts_to_sequences(test_x)\n",
    "padded_test=pad_sequences(test_sequences,maxlen=max_length)"
   ]
  },
  {
   "cell_type": "code",
   "execution_count": 227,
   "metadata": {},
   "outputs": [],
   "source": [
    "model=Sequential()\n",
    "model.add(Embedding(vocab_size,dimention,input_length=max_length))\n",
    "model.add(Conv1D(32, 8, activation=\"relu\"))\n",
    "model.add(MaxPooling1D(2))\n",
    "model.add(GlobalAveragePooling1D())\n",
    "model.add(Dense(15,activation='relu'))\n",
    "model.add(Dense(1,activation='sigmoid'))"
   ]
  },
  {
   "cell_type": "code",
   "execution_count": 228,
   "metadata": {},
   "outputs": [
    {
     "name": "stdout",
     "output_type": "stream",
     "text": [
      "Model: \"sequential_10\"\n",
      "_________________________________________________________________\n",
      "Layer (type)                 Output Shape              Param #   \n",
      "=================================================================\n",
      "embedding_10 (Embedding)     (None, 2500, 100)         3900000   \n",
      "_________________________________________________________________\n",
      "conv1d_4 (Conv1D)            (None, 2493, 32)          25632     \n",
      "_________________________________________________________________\n",
      "max_pooling1d_4 (MaxPooling1 (None, 1246, 32)          0         \n",
      "_________________________________________________________________\n",
      "global_average_pooling1d_5 ( (None, 32)                0         \n",
      "_________________________________________________________________\n",
      "dense_14 (Dense)             (None, 15)                495       \n",
      "_________________________________________________________________\n",
      "dense_15 (Dense)             (None, 1)                 16        \n",
      "=================================================================\n",
      "Total params: 3,926,143\n",
      "Trainable params: 3,926,143\n",
      "Non-trainable params: 0\n",
      "_________________________________________________________________\n"
     ]
    }
   ],
   "source": [
    "model.summary()"
   ]
  },
  {
   "cell_type": "code",
   "execution_count": 229,
   "metadata": {},
   "outputs": [],
   "source": [
    "model.compile(optimizer='adam',loss='binary_crossentropy',metrics=['accuracy'])"
   ]
  },
  {
   "cell_type": "code",
   "execution_count": 231,
   "metadata": {},
   "outputs": [
    {
     "name": "stdout",
     "output_type": "stream",
     "text": [
      "Train on 1600 samples, validate on 400 samples\n",
      "Epoch 1/3\n",
      "1600/1600 [==============================] - 19s 12ms/step - loss: 0.0041 - accuracy: 1.0000 - val_loss: 0.3489 - val_accuracy: 0.8625\n",
      "Epoch 2/3\n",
      "1600/1600 [==============================] - 20s 12ms/step - loss: 0.0032 - accuracy: 1.0000 - val_loss: 0.3551 - val_accuracy: 0.8650\n",
      "Epoch 3/3\n",
      "1600/1600 [==============================] - 21s 13ms/step - loss: 0.0027 - accuracy: 1.0000 - val_loss: 0.3588 - val_accuracy: 0.8625\n"
     ]
    },
    {
     "data": {
      "text/plain": [
       "<keras.callbacks.callbacks.History at 0x2229d126048>"
      ]
     },
     "execution_count": 231,
     "metadata": {},
     "output_type": "execute_result"
    }
   ],
   "source": [
    "model.fit(\n",
    "   padded,train_y,epochs=3,validation_data=(padded_test,test_y)\n",
    "\n",
    ")\n",
    "#2nd time running!"
   ]
  },
  {
   "cell_type": "code",
   "execution_count": null,
   "metadata": {},
   "outputs": [],
   "source": []
  }
 ],
 "metadata": {
  "kernelspec": {
   "display_name": "Python 3",
   "language": "python",
   "name": "python3"
  },
  "language_info": {
   "codemirror_mode": {
    "name": "ipython",
    "version": 3
   },
   "file_extension": ".py",
   "mimetype": "text/x-python",
   "name": "python",
   "nbconvert_exporter": "python",
   "pygments_lexer": "ipython3",
   "version": "3.7.4"
  }
 },
 "nbformat": 4,
 "nbformat_minor": 4
}
